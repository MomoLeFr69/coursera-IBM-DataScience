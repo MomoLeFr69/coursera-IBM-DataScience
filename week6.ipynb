{
 "cells": [
  {
   "cell_type": "markdown",
   "id": "6d7603e5-bee0-4ebb-a6de-97dff844d585",
   "metadata": {},
   "source": [
    "# My Notebook for coursera's Assignment"
   ]
  },
  {
   "cell_type": "markdown",
   "id": "1910ab6b-b6cf-4b96-a00e-59ccdcc57a7d",
   "metadata": {},
   "source": [
    "This is an introduction to my notebook\n"
   ]
  },
  {
   "cell_type": "markdown",
   "id": "577ea791-5d8d-4077-b275-39449e09faa1",
   "metadata": {},
   "source": [
    "There is actually a lot of programming languages for data science, such :\n",
    "* python\n",
    "* java\n",
    "* c++ \n",
    "* R\n",
    "* Ruby\n",
    "\n",
    "etc"
   ]
  },
  {
   "cell_type": "markdown",
   "id": "ffcc9c5b-e2ac-43eb-a67b-c21f1375ed88",
   "metadata": {},
   "source": [
    "Here is some libraries for datascience:\n",
    "\n",
    "\n",
    "* ggplot2\n",
    "* matplotlib\n",
    "* numpy\n",
    "* scikit learn\n",
    "  "
   ]
  },
  {
   "cell_type": "markdown",
   "id": "481704ff-be96-49e4-9595-6315ea03cba5",
   "metadata": {},
   "source": [
    "Here is some tools for Data Science:\n",
    "* Jupyter Lab/Notebook\n",
    "* Rstudio\n",
    "* Apache spark\n",
    "\n",
    "  etc.."
   ]
  },
  {
   "cell_type": "markdown",
   "id": "9c255a05-d65e-487c-97d1-636c87d8eecb",
   "metadata": {},
   "source": [
    "I dont get the exercice 7 ? Like 2*3 is an arithmetic expression example or maybe this : $$\n",
    "  \\int_{-\\infty}^\\infty e^{-x^{2}}dx = \\sqrt{\\pi}\n",
    "$$"
   ]
  },
  {
   "cell_type": "code",
   "execution_count": 8,
   "id": "2ff95723-0826-4a9d-a40a-3244e80851c2",
   "metadata": {},
   "outputs": [
    {
     "data": {
      "text/plain": [
       "(6, 5)"
      ]
     },
     "execution_count": 8,
     "metadata": {},
     "output_type": "execute_result"
    }
   ],
   "source": [
    "2*3,2+3"
   ]
  },
  {
   "cell_type": "code",
   "execution_count": 9,
   "id": "3e96b788-f643-4060-a3dd-d77eab038fa6",
   "metadata": {},
   "outputs": [],
   "source": [
    "def cmh(mi: float) ->float :\n",
    "    return mi/60"
   ]
  },
  {
   "cell_type": "code",
   "execution_count": 10,
   "id": "2965cf64-8fe1-4439-b2e8-1f8211e125bf",
   "metadata": {},
   "outputs": [
    {
     "data": {
      "text/plain": [
       "1.0"
      ]
     },
     "execution_count": 10,
     "metadata": {},
     "output_type": "execute_result"
    }
   ],
   "source": [
    "cmh(60)"
   ]
  },
  {
   "cell_type": "markdown",
   "id": "93e61133-826d-49be-a1c9-fa5e338711ac",
   "metadata": {},
   "source": [
    "Here is a cell to list some objectives ?? :\n",
    "\n",
    "* open a garage\n",
    "* discover new things in algebraic geometry\n",
    "* be a good tennis player\n",
    "* start cyclism (damn that's expensive)\n",
    "\n",
    "* "
   ]
  },
  {
   "cell_type": "markdown",
   "id": "e03101eb-6f5a-4e95-8eaf-19dff8c38e39",
   "metadata": {},
   "source": [
    "\n",
    "Author's name : Djezzar Mohammad Amine"
   ]
  },
  {
   "cell_type": "code",
   "execution_count": null,
   "id": "dc25aaf1-97a6-469c-810d-93671c3b1cdc",
   "metadata": {},
   "outputs": [],
   "source": []
  }
 ],
 "metadata": {
  "kernelspec": {
   "display_name": "Python 3 (ipykernel)",
   "language": "python",
   "name": "python3"
  },
  "language_info": {
   "codemirror_mode": {
    "name": "ipython",
    "version": 3
   },
   "file_extension": ".py",
   "mimetype": "text/x-python",
   "name": "python",
   "nbconvert_exporter": "python",
   "pygments_lexer": "ipython3",
   "version": "3.12.3"
  }
 },
 "nbformat": 4,
 "nbformat_minor": 5
}
